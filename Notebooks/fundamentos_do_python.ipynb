{
 "cells": [
  {
   "cell_type": "markdown",
   "metadata": {},
   "source": [
    "#FUNDAMENTOS DO PYTHON\n",
    "\n",
    "Olá, primeiro gostaria de lhe parabenizar pela sua decisão quanto a aprender programação em python, você fez a escolha certa!\n",
    "\n",
    "Você pode encontrar a documentação oficial do Python disponível em https://www.python.org.\n",
    "\n",
    "Cito um excelente artigo sobre números complexos, disponível em https://www.khanacademy.org/math/algebra2/introduction-to-complex-numbers-algebra-2/the-complex-numbers-algebra-2/a/intro-to-complex-numbers. O texto está em inglês, se não tiver domínio da língua, vale a utilização de um tradutor online.\n",
    "\n",
    "Aproveito para registrar neste anexo um artigo sobre Tipos de Dados Booleanos, disponível em https://www.w3schools.com/js/js_booleans.asp. Também vale a utilização de um tradutor online caso você não tenha domínio do inglês.\n",
    "\n",
    "Programming is a superpower!\n",
    "\n",
    "Best,\n",
    "\n",
    "Arthur."
   ]
  },
  {
   "cell_type": "code",
   "execution_count": null,
   "metadata": {},
   "outputs": [],
   "source": [
    "#PALAVRAS RESERVADAS (Keyword)\n",
    "True = 10 #Errado! Uma variável jamais pode utilizar palavras reservadas como identificador (nome)"
   ]
  },
  {
   "cell_type": "code",
   "execution_count": null,
   "metadata": {},
   "outputs": [],
   "source": [
    "#IDENTIFICADORES\n",
    "\n",
    "#Não pode conter nenhum caractere especial\n",
    "var = 15 #maneira correta!\n",
    "!var = 10 #maneira errada!\n",
    "print(var)\n",
    "print(!var) #retorna um erro, precisa ser comentado!\n",
    "\n",
    "#Inicia com letras maiúsculas ou minúsculas, ou ainda com um underscore, seguido de números de 0 à 9\n",
    "_var5 = \"Texto\" #correto!\n",
    "print(_var5)\n",
    "\n",
    "#Um underscore pode ser utilizado para unir diferentes termos\n",
    "minha_variavel = 20 #correto!\n",
    "print(minha_variavel)\n",
    "\n",
    "#Por convenção, uma classe sempre inicia com letra maiúscula\n",
    "class Produto:\n",
    "    pass"
   ]
  },
  {
   "cell_type": "code",
   "execution_count": null,
   "metadata": {},
   "outputs": [],
   "source": [
    "#IDENTAÇÃO\n",
    "class Produto: #Iniciamos uma classe Produto que contém um bloco de instruções pertencente a ela\n",
    "    # \\o/ AQUI COMEÇA O MEU BLOCO PERTENCENTE (IDENTADO) À MINHA CLASSE\n",
    "    preco = 10\n",
    "    nome = \"Nome do produto\"\n",
    "    cor_embalagem = \"Vermelha\"\n",
    "    \n",
    "#\\o/ AQUI eu já estou fora da identação, consequentemente, fora da classe Produto"
   ]
  },
  {
   "cell_type": "code",
   "execution_count": null,
   "metadata": {},
   "outputs": [],
   "source": [
    "#COMENTÁRIOS E DOCSTRINGS\n",
    "variavel_exemplo = \"Texto de Exemplo\" #Esta variável é um exemplo\n",
    "def funcaoExemplo(x):\n",
    "    \"\"\"Esta é uma função de exemplo para explicar o que são docstrings\"\"\"\n",
    "    return x"
   ]
  },
  {
   "cell_type": "code",
   "execution_count": null,
   "metadata": {},
   "outputs": [],
   "source": [
    "#VARIÁVEIS\n",
    "var_1 = \"String\" #variável única\n",
    "var_2, var_3 = 15, \"Texto\" #associação de valores a duas variáveis ao memso tempo\n",
    "print(type(var_2), type(var_3))"
   ]
  },
  {
   "cell_type": "code",
   "execution_count": null,
   "metadata": {},
   "outputs": [],
   "source": [
    "#TIPO DE DADO BOOLEANO\n",
    "Verdadeiro = True #1\n",
    "Falso = False #0"
   ]
  },
  {
   "cell_type": "code",
   "execution_count": null,
   "metadata": {},
   "outputs": [],
   "source": [
    "#TIPO DE DADO NUMÉRICO\n",
    "\n",
    "#inteiro\n",
    "inteiro = 10\n",
    "print(type(inteiro))\n",
    "\n",
    "#float\n",
    "float_num = 12.67\n",
    "print(type(float_num))\n",
    "\n",
    "#complex\n",
    "complex_num = 1+0j\n",
    "print(type(complex_num))"
   ]
  },
  {
   "cell_type": "code",
   "execution_count": null,
   "metadata": {},
   "outputs": [],
   "source": [
    "#TIPO DE DADO STRING\n",
    "str_1 = \"Esta é uma string\"\n",
    "str_2 = \"e esta é outra string\"\n",
    "\n",
    "#indexando\n",
    "print(str_1[1])\n",
    "\n",
    "#slice (corte)\n",
    "print(str_1[0:4])\n",
    "\n",
    "#concatenando strings\n",
    "print(str_1 + \" \" + str_2)\n",
    "\n",
    "#tamanho de uma string\n",
    "print(len(str_1))\n",
    "\n",
    "#repetindo um string\n",
    "print(str_2*5)\n",
    "\n",
    "#função upper()\n",
    "print(str_1.upper())\n",
    "\n",
    "#função lower()\n",
    "print(str_1.lower())"
   ]
  },
  {
   "cell_type": "code",
   "execution_count": null,
   "metadata": {},
   "outputs": [],
   "source": [
    "#TIPO DE DADO LISTA\n",
    "lista = [6, 3, 8, 90, 4, 2]\n",
    "\n",
    "#função append()\n",
    "lista.append(89)\n",
    "print(lista)\n",
    "\n",
    "#deletando itens da lista\n",
    "del lista[-1]\n",
    "print(lista)\n",
    "\n",
    "#ordenando itens da lista (crescente)\n",
    "lista.sort()\n",
    "print(lista)\n",
    "\n",
    "#ordenando itens da lista (decrescente)\n",
    "lista.reverse()\n",
    "print(lista)\n",
    "\n",
    "#listas podem conter todos os tipos de dados do python\n",
    "lista_exemplo = [13, 2+0j, 5.67, \"str\", [1, 2, 3], False]\n",
    "print(lista_exemplo)\n",
    "print(lista_exemplo[4][0]) #exibindo o primeiro item da minha sublista"
   ]
  },
  {
   "cell_type": "code",
   "execution_count": null,
   "metadata": {},
   "outputs": [],
   "source": [
    "#TIPO DE DADO TUPLA\n",
    "tupla = (1, 2, 3, 4)\n",
    "\n",
    "#indexing\n",
    "print(tupla[0])\n",
    "\n",
    "#slicing\n",
    "print(tupla[0:-1])"
   ]
  },
  {
   "cell_type": "code",
   "execution_count": null,
   "metadata": {},
   "outputs": [],
   "source": [
    "#TIPO DE DADO DICIONÁRIO\n",
    "dicionario = {\"Chave1\":\"Valor1\", \"Chave2\":2}\n",
    "\n",
    "#indexing\n",
    "print(dicionario['Chave1'])\n",
    "\n",
    "#adicionando entradas\n",
    "dicionario[\"Chave3\"] = \"três\"\n",
    "\n",
    "#modificando dados\n",
    "dicionario[\"Chave3\"] = 3\n",
    "print(dicionario)\n",
    "\n",
    "#removendo dados\n",
    "dicionario.pop(\"Chave2\")\n",
    "print(dicionario)"
   ]
  },
  {
   "cell_type": "code",
   "execution_count": null,
   "metadata": {},
   "outputs": [],
   "source": [
    "#CONVERTENDO TIPOS DE DADOS\n",
    "INTEIRO = 25\n",
    "FLOAT = 4.78\n",
    "COMPLEX = 2+1j\n",
    "STRING = \"TEXTO\"\n",
    "\n",
    "#convertendo inteiro para float\n",
    "INT_FLOAT = float(INTEIRO)\n",
    "print(type(INT_FLOAT))\n",
    "\n",
    "#convertendo float para inteiro\n",
    "FLOAT_INT = int(FLOAT)\n",
    "print(type(FLOAT_INT))\n",
    "\n",
    "#convertendo inteiro para complexo\n",
    "INT_COMPLEX = complex(25)\n",
    "print(type(INT_COMPLEX))\n",
    "\n",
    "#convertendo float para texto (string)\n",
    "FLOAT_STRING = str(FLOAT)\n",
    "print(type(FLOAT_STRING))"
   ]
  },
  {
   "cell_type": "code",
   "execution_count": null,
   "metadata": {},
   "outputs": [],
   "source": [
    "#OPERADORES ARITMÉTICOS NO PYTHON\n",
    "x = 10\n",
    "y = 15\n",
    "\n",
    "#soma\n",
    "print(x + y)\n",
    "\n",
    "#subtração\n",
    "print(x - y)\n",
    "\n",
    "#multiplicação\n",
    "print(x * y)\n",
    "\n",
    "#exponenciação\n",
    "print(x**2)\n",
    "\n",
    "#divisão\n",
    "print(10 / 2)\n",
    "\n",
    "#módulo (resto da divisão)\n",
    "print(18 % 5)\n",
    "\n",
    "#floor division (not float number)\n",
    "print(10 // 2)"
   ]
  },
  {
   "cell_type": "code",
   "execution_count": null,
   "metadata": {},
   "outputs": [],
   "source": [
    "#OPERADORES LÓGICOS\n",
    "x = True\n",
    "y = False\n",
    "\n",
    "#or\n",
    "x or y #-> True\n",
    "\n",
    "#and\n",
    "x and y #-> False\n",
    "\n",
    "#not\n",
    "not x #-> False\n",
    "not y #-> True"
   ]
  },
  {
   "cell_type": "code",
   "execution_count": null,
   "metadata": {},
   "outputs": [],
   "source": [
    "#OPERADORES DE COMPARAÇÃO\n",
    "x = 1\n",
    "y = 2\n",
    "\n",
    "#igual\n",
    "1 == 2 #-> False\n",
    "\n",
    "#não é igual\n",
    "1 != 2 #-> True\n",
    "\n",
    "#menor que\n",
    "x < y #-> True\n",
    "\n",
    "#maior que\n",
    "x > y #-> False\n",
    "\n",
    "#menor ou igual\n",
    "x <= y #-> True\n",
    "\n",
    "#maior ou igual\n",
    "x >= y #-> False"
   ]
  },
  {
   "cell_type": "code",
   "execution_count": null,
   "metadata": {},
   "outputs": [],
   "source": [
    "#INPUT E OUTPUT (COM FORMATAÇÃO DE OUTPUTS)\n",
    "\n",
    "#input\n",
    "NOME = str(input(\"Digite o seu nome: \"))\n",
    "IDADE = int(input(\"Digite a sua idade: \"))\n",
    "\n",
    "#print (para output)\n",
    "print(\"Ola, {0}, sua idade é {1}\".format(NOME, IDADE)) #formatado com a função format()\n",
    "print(\"Ola, %s, sua idade é %i\" % (NOME, IDADE)) #formatado com sprint"
   ]
  },
  {
   "cell_type": "code",
   "execution_count": null,
   "metadata": {},
   "outputs": [],
   "source": [
    "#TOMADA DE DECISÃO\n",
    "idade = int(input(\"Digite a sua idade: \"))\n",
    "\n",
    "#condição if\n",
    "#if idade < 15:\n",
    "    #pass\n",
    "\n",
    "#condição elif\n",
    "#elif idade > 22:\n",
    "    #pass\n",
    "\n",
    "#condição else\n",
    "#else:\n",
    "    #pass\n",
    "\n",
    "#aplicação dos conceitos\n",
    "if idade < 18:\n",
    "    print(\"Você é menor de idade!\")\n",
    "\n",
    "elif (idade > 18) and (idade < 60):\n",
    "    print(\"Você é adulto!\")\n",
    "\n",
    "else:\n",
    "    print(\"Você faz parte da melhor idade!\")"
   ]
  },
  {
   "cell_type": "code",
   "execution_count": null,
   "metadata": {},
   "outputs": [],
   "source": [
    "#FOR LOOP E FUNÇÃO RANGE\n",
    "lista_for = [1, 2, 3, 4, 5, 6, 7, 8, 9, 10]\n",
    "\n",
    "#for i in lista_for:\n",
    "    #print(i)\n",
    "\n",
    "for i in range(10):\n",
    "    print(lista_for[i])"
   ]
  },
  {
   "cell_type": "code",
   "execution_count": null,
   "metadata": {},
   "outputs": [],
   "source": [
    "#WHILE LOOP\n",
    "contador = 0\n",
    "\n",
    "while contador < 10:\n",
    "    print(\"Ação\")\n",
    "    contador += 1"
   ]
  },
  {
   "cell_type": "code",
   "execution_count": null,
   "metadata": {},
   "outputs": [],
   "source": [
    "#BREAK, CONTINUE E PASS STATEMENTS\n",
    "lista_loop = [\"Um\", \"Dois\", \"Três\", \"Quatro\"]\n",
    "\n",
    "#break\n",
    "for i in lista_loop:\n",
    "    if i == \"Dois\":\n",
    "        break\n",
    "print(\"Você achou o Dois\")\n",
    "\n",
    "#continue\n",
    "for i in lista_loop:\n",
    "    if i == \"Três\":\n",
    "        continue\n",
    "    print(i)\n",
    "\n",
    "#pass\n",
    "while contador <= 100:\n",
    "    pass"
   ]
  },
  {
   "cell_type": "code",
   "execution_count": null,
   "metadata": {},
   "outputs": [],
   "source": [
    "#DESENVOLVENDO O JOGO GUESS THE NUMBER\n",
    "\n",
    "import random\n",
    "\n",
    "contador = 0\n",
    "guessNum = random.randint(1, 10)\n",
    "placar_total = 0\n",
    "\n",
    "NOME = str(input(\"Digite o seu nome: \"))\n",
    "print(\"Ola, {0}! Seja bem vindo ao jogo Guess the Number!\".format(NOME))\n",
    "print(\"Eu selecionei um número aleatório em uma sequência de 1 até 10. Você tera 3 chances para advinhá-lo!\")\n",
    "print(\"Comece!\")\n",
    "\n",
    "while True:\n",
    "\n",
    "    while contador < 3:\n",
    "\n",
    "        NUMERO = int(input(\"Digite o número: \"))\n",
    "        contador += 1\n",
    "\n",
    "        if NUMERO < guessNum:\n",
    "            print(\"O número que você precisa advinhar é maior!\")\n",
    "\n",
    "        elif NUMERO > guessNum:\n",
    "            print(\"O número que você precisa advinhar é menor!\")\n",
    "\n",
    "        elif NUMERO == guessNum:\n",
    "            print(\"Parabens! Você descobriu o número {0}, em {1} tentativas!\".format(guessNum, contador))\n",
    "            placar_total += 1\n",
    "            break\n",
    "\n",
    "    if (contador == 3) and (NUMERO != guessNum):\n",
    "        print(\"Você atingiu o número máximo de tentativas!\")\n",
    "        print(\"Jogo finalizado!\")\n",
    "\n",
    "    else:\n",
    "        print(\"Jogo finalizado!\")\n",
    "\n",
    "    CONTINUE = str(input(\"Deseja recomeçar o game? (s/n)\"))\n",
    "    if CONTINUE == 's':\n",
    "        contador = 0\n",
    "        guessNum = random.randint(1, 10)\n",
    "    else:\n",
    "        break\n",
    "        \n",
    "print(\"Nome:\", NOME)\n",
    "print(\"Sua pontuação total foi de:\", placar_total)\n",
    "print(\"Game finalizado!\")"
   ]
  },
  {
   "cell_type": "code",
   "execution_count": null,
   "metadata": {},
   "outputs": [],
   "source": [
    "#FUNÇÕES\n",
    "var = 5\n",
    "\n",
    "def power(x):\n",
    "    return x**2\n",
    "\n",
    "power(var)"
   ]
  },
  {
   "cell_type": "code",
   "execution_count": null,
   "metadata": {},
   "outputs": [],
   "source": [
    "#MÓDULOS\n",
    "import statistics as stt\n",
    "\n",
    "lista_stt = [5, 6, 8, 3, 2]\n",
    "#stdev\n",
    "print(stt.stdev(lista_stt))"
   ]
  },
  {
   "cell_type": "code",
   "execution_count": null,
   "metadata": {},
   "outputs": [],
   "source": [
    "#EXIBINDO O CONTEÚDO DE UM MÓDULO\n",
    "import statistics\n",
    "dir(statistics)"
   ]
  },
  {
   "cell_type": "code",
   "execution_count": null,
   "metadata": {},
   "outputs": [],
   "source": [
    "#ERROS E EXCEÇÕES\n",
    "\n",
    "try:\n",
    "    numero = int(input(\"Digite um número inteiro: \"))\n",
    "except:\n",
    "    print(\"Você não digitou um valor numérico inteiro!\")"
   ]
  },
  {
   "cell_type": "code",
   "execution_count": null,
   "metadata": {},
   "outputs": [],
   "source": []
  }
 ],
 "metadata": {
  "kernelspec": {
   "display_name": "Python 3",
   "language": "python",
   "name": "python3"
  },
  "language_info": {
   "codemirror_mode": {
    "name": "ipython",
    "version": 3
   },
   "file_extension": ".py",
   "mimetype": "text/x-python",
   "name": "python",
   "nbconvert_exporter": "python",
   "pygments_lexer": "ipython3",
   "version": "3.6.4"
  }
 },
 "nbformat": 4,
 "nbformat_minor": 2
}
