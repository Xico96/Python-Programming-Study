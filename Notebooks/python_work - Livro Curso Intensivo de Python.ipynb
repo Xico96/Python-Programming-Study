{
 "cells": [
  {
   "cell_type": "markdown",
   "metadata": {},
   "source": [
    "# Este arquivo está destinado para o aprendizado de python através do livro Curso Intensido de Python: Uma abordagem prática e baseada em projetos à programação do escritor Eric Matthes"
   ]
  },
  {
   "cell_type": "markdown",
   "metadata": {},
   "source": [
    "## Capítulo 2: Variáveis e tipos de dados simples"
   ]
  },
  {
   "cell_type": "code",
   "execution_count": 1,
   "metadata": {},
   "outputs": [
    {
     "name": "stdout",
     "output_type": "stream",
     "text": [
      "Por favor, digite seu nome: Sérgio\n",
      "Oi, Sérgio. Você gostaria de aprender pyhton?\n"
     ]
    }
   ],
   "source": [
    "#2_3 Mensagem Pessoal\n",
    "\n",
    "name = input(\"Por favor, digite seu nome: \")\n",
    "print ('Oi,', name + '. Você gostaria de aprender pyhton?')"
   ]
  },
  {
   "cell_type": "code",
   "execution_count": 3,
   "metadata": {},
   "outputs": [
    {
     "name": "stdout",
     "output_type": "stream",
     "text": [
      "Francisco Sérgio Menezes Silva Junior\n",
      "FRANCISCO SÉRGIO MENEZES SILVA JUNIOR\n",
      "francisco sérgio menezes silva junior\n"
     ]
    }
   ],
   "source": [
    "#2_4 Name Upper-Lower\n",
    "\n",
    "name = \"francisco sérgio menezes silva junior\"\n",
    "print(name.title()) #Deixa a primeira letra de cada palavra maiuscula\n",
    "print(name.upper()) #Deixa todas as palavras em letras maiusculas\n",
    "print(name.lower()) #Deixa todas as palavras em letras minusculas"
   ]
  },
  {
   "cell_type": "code",
   "execution_count": 4,
   "metadata": {},
   "outputs": [
    {
     "name": "stdout",
     "output_type": "stream",
     "text": [
      "Stephen Hawking certa vez disse: \"Eu não tenho nenhuma idéia (de qual seja o meu QI). Pessoas que se vangloriam dos seus QI são perdedores.\"\n"
     ]
    }
   ],
   "source": [
    "#2_5 Citação Famosa\n",
    "\n",
    "citaçao = 'Stephen Hawking certa vez disse: \"Eu não tenho nenhuma idéia (de qual seja o meu QI). Pessoas que se vangloriam dos seus QI são perdedores.\"'\n",
    "print(citaçao)"
   ]
  },
  {
   "cell_type": "code",
   "execution_count": 5,
   "metadata": {},
   "outputs": [
    {
     "name": "stdout",
     "output_type": "stream",
     "text": [
      "\"Eu não tenho nenhuma idéia (de qual seja o meu QI). Pessoas que se vangloriam dos seus QI são perdedores.\"\n",
      "Quem disse isso? Stephen Hawking\n",
      "Stephen Hawking certa vez disse: \"Eu não tenho nenhuma idéia (de qual seja o meu QI). Pessoas que se vangloriam dos seus QI são perdedores.\"\n"
     ]
    }
   ],
   "source": [
    "#2_6 Citação Famosa 2\n",
    "\n",
    "citaçao = '\"Eu não tenho nenhuma idéia (de qual seja o meu QI). Pessoas que se vangloriam dos seus QI são perdedores.\"'\n",
    "print (citaçao)\n",
    "famous_person = input(\"Quem disse isso? \")\n",
    "print(famous_person, \"certa vez disse:\", citaçao)"
   ]
  },
  {
   "cell_type": "markdown",
   "metadata": {},
   "source": [
    "## Capítulo 3: Introdução às listas"
   ]
  },
  {
   "cell_type": "code",
   "execution_count": 12,
   "metadata": {},
   "outputs": [
    {
     "name": "stdout",
     "output_type": "stream",
     "text": [
      "4\n",
      "Esta é a ordem real dos carros: ['bmw', 'audi', 'toyota', 'subaru']\n",
      "Esta é a nova ordem: ['subaru', 'toyota', 'audi', 'bmw']\n"
     ]
    }
   ],
   "source": [
    "# 3 Cars Reverse\n",
    "\n",
    "cars = ['bmw', 'audi', 'toyota', 'subaru']\n",
    "print (len(cars)) #mostra o tamanho da lista\n",
    "print('Esta é a ordem real dos carros:', cars)\n",
    "cars.reverse()#este metodo faz com que a lista seja mostrada ao contrario da ordem original, de forma permanente\n",
    "print ('Esta é a nova ordem:', cars)"
   ]
  },
  {
   "cell_type": "code",
   "execution_count": null,
   "metadata": {},
   "outputs": [],
   "source": [
    "#3 Cars Sorted\n",
    "\n",
    "cars = ['bmw', 'audi', 'toyota', 'subaru']\n",
    "print('A lista original é', cars)\n",
    "print('Está é a organização dos carros em ordem alfabetica de tras pra frente: ', sorted(cars))#o sorted () é utilizado para modificar a lista para ordem alfabetica, porem de forma temporaria."
   ]
  },
  {
   "cell_type": "code",
   "execution_count": 8,
   "metadata": {},
   "outputs": [
    {
     "name": "stdout",
     "output_type": "stream",
     "text": [
      "['bmw', 'audi', 'toyota', 'subaru']\n",
      "Está é a organização dos carros em ordem alfabetica:  ['audi', 'bmw', 'subaru', 'toyota']\n",
      "Está é a organização dos carros em ordem alfabetica de tras pra frente:  ['toyota', 'subaru', 'bmw', 'audi']\n"
     ]
    }
   ],
   "source": [
    "#3 Cars Sort\n",
    "\n",
    "cars = ['bmw', 'audi', 'toyota', 'subaru']\n",
    "print(cars)\n",
    "cars.sort() #organiza a lista em ordem alfabetica de forma permanente\n",
    "print('Está é a organização dos carros em ordem alfabetica: ', cars)\n",
    "cars.sort(reverse=True) #o reverse=true é utilizado para mostrar a lista em ordem alfabetica de tras pra frente\n",
    "print('Está é a organização dos carros em ordem alfabetica de tras pra frente: ', cars)"
   ]
  },
  {
   "cell_type": "code",
   "execution_count": 9,
   "metadata": {},
   "outputs": [
    {
     "name": "stdout",
     "output_type": "stream",
     "text": [
      "Olá, Sergio Sabrina Marcia Serginho tudo bem com vocês?\n"
     ]
    }
   ],
   "source": [
    "#3_1_2 Nomes\n",
    "\n",
    "nomes = ['sergio', 'sabrina', 'marcia', 'serginho']\n",
    "print('Olá,', nomes[0].title(),nomes[1].title(),nomes[2].title(),nomes[3].title(), 'tudo bem com vocês?')"
   ]
  },
  {
   "cell_type": "code",
   "execution_count": null,
   "metadata": {},
   "outputs": [],
   "source": [
    "#3_3 Sua Propria Lista\n",
    "\n",
    "transportes = ['fusca', 'chrysler', 'camaro']\n",
    "#print(\"Vou tirando onda de\", transportes[2], \"amarelo.\")\n",
    "#print(\"Um dia eu terei um\", transportes[1],\"!\")\n",
    "#print(\"O\", transportes[0], \"é um carro muito feio...\")\n",
    "print(transportes)\n",
    "transportes[0] = 'gol' #esta linha é para trocar o fusca por gol, como exemplo de modificação de listas.\n",
    "print(transportes)\n",
    "transportes.append('fusca') #append é o metodo utilizado para adicionar um novo elemento no final da lista.\n",
    "print(transportes)\n",
    "transportes.insert(1, 'GMC') #quando é colocado o numero, o valor que se deseja adicionar vai para a posição indicada. No caso ficando em segundo lugar.\n",
    "print (transportes)\n",
    "del transportes[4] #esse metodo deleta o item e o mesmo nao podera mais ser acessado\n",
    "print (transportes)\n",
    "popped_transportes = transportes.pop()#esse metodo deleta o ultimo item da lista, porem é permitido continuar trabalhando com ele apos isso.\n",
    "print (transportes)\n",
    "print(popped_transportes)\n",
    "transporte_que_quero = transportes.pop(1) #se adicionar o numero no pop, pode remover o item de qualquer posição e reutiliza-la depois.\n",
    "print ('O carro que eu quero é um Acadia da', transporte_que_quero.title() + '.')\n",
    "transportes.remove('gol') #se não conhecer o valor do item, pode remove-lo atraves do remove\n",
    "print (transportes)\n",
    "muito_caro = 'chrysler'\n",
    "transportes.remove(muito_caro)\n",
    "print (transportes)\n",
    "print (\"\\n\\tO\", muito_caro.title(), \"é muito caro.\")"
   ]
  },
  {
   "cell_type": "code",
   "execution_count": null,
   "metadata": {},
   "outputs": [],
   "source": [
    "#3_4 lista de convidados\n",
    "\n",
    "convidados = ['tupac', 'stephen hawking', 'ragnar lothbrok']\n",
    "print(convidados)\n",
    "print('\\nPrezado(a),', convidados[0], '\\nGostaria de lhe convidar para um jantar em minha casa, no dia 20 de dezembro, às 20 horas.\\nEstou no seu aguardo.\\nAtenciosamente,\\nSérgio Menezes')\n",
    "print('\\nPrezado(a),', convidados[1], '\\nGostaria de lhe convidar para um jantar em minha casa, no dia 20 de dezembro, às 20 horas.\\nEstou no seu aguardo.\\nAtenciosamente,\\nSérgio Menezes')\n",
    "print('\\nPrezado(a),', convidados[2], '\\nGostaria de lhe convidar para um jantar em minha casa, no dia 20 de dezembro, às 20 horas.\\nEstou no seu aguardo.\\nAtenciosamente,\\nSérgio Menezes')\n",
    "print('\\nO convidado', convidados[0], 'não poderá comparecer!')\n",
    "convidados[0] = 'Emma Watson'\n",
    "print(convidados)\n",
    "convidados.insert (0, 'Elon Musk')\n",
    "convidados.insert(2, 'Stephen King')\n",
    "convidados.append ('Bill Gates')\n",
    "print (convidados)\n",
    "print ('\\nQueridos, consegui uma mesa maior e irei convidar mais pessoas, espero que todos compareçam.\\nAtenciosamente,\\nSérgio Menezes')\n",
    "print('\\nPrezado(a),', convidados[0], '\\nGostaria de lhe convidar para um jantar em minha casa, no dia 20 de dezembro, às 20 horas.\\nEstou no seu aguardo.\\nAtenciosamente,\\nSérgio Menezes')\n",
    "print('\\nPrezado(a),', convidados[1], '\\nGostaria de lhe convidar para um jantar em minha casa, no dia 20 de dezembro, às 20 horas.\\nEstou no seu aguardo.\\nAtenciosamente,\\nSérgio Menezes')\n",
    "print('\\nPrezado(a),', convidados[2], '\\nGostaria de lhe convidar para um jantar em minha casa, no dia 20 de dezembro, às 20 horas.\\nEstou no seu aguardo.\\nAtenciosamente,\\nSérgio Menezes')\n",
    "print('\\nPrezado(a),', convidados[3], '\\nGostaria de lhe convidar para um jantar em minha casa, no dia 20 de dezembro, às 20 horas.\\nEstou no seu aguardo.\\nAtenciosamente,\\nSérgio Menezes')\n",
    "print('\\nPrezado(a),', convidados[4], '\\nGostaria de lhe convidar para um jantar em minha casa, no dia 20 de dezembro, às 20 horas.\\nEstou no seu aguardo.\\nAtenciosamente,\\nSérgio Menezes')\n",
    "print('\\nPrezado(a),', convidados[5], '\\nGostaria de lhe convidar para um jantar em minha casa, no dia 20 de dezembro, às 20 horas.\\nEstou no seu aguardo.\\nAtenciosamente,\\nSérgio Menezes')\n",
    "popped_convidados = convidados.pop(4)\n",
    "print('\\nPrezado(a),', popped_convidados.title(),'\\nDesculpe-me, mas não dará para você comparacer nesse jantar, pois não haverá espaço suficiente. Farei de tudo para organizar outro jantar para você comparecer.\\nAtenciosamente,\\nSérgio Menezes')\n",
    "popped_convidados = convidados.pop(2)\n",
    "print('\\nPrezado(a),', popped_convidados.title(),'\\nDesculpe-me, mas não dará para você comparacer nesse jantar, pois não haverá espaço suficiente. Farei de tudo para organizar outro jantar para você comparecer.\\nAtenciosamente,\\nSérgio Menezes')\n",
    "popped_convidados = convidados.pop(1)\n",
    "print('\\nPrezado(a),', popped_convidados.title(),'\\nDesculpe-me, mas não dará para você comparacer nesse jantar, pois não haverá espaço suficiente. Farei de tudo para organizar outro jantar para você comparecer.\\nAtenciosamente,\\nSérgio Menezes')\n",
    "popped_convidados = convidados.pop(2)\n",
    "print('\\nPrezado(a),', popped_convidados.title(),'\\nDesculpe-me, mas não dará para você comparacer nesse jantar, pois não haverá espaço suficiente. Farei de tudo para organizar outro jantar para você comparecer.\\nAtenciosamente,\\nSérgio Menezes')\n",
    "print(convidados)\n",
    "print('\\nPrezado(a),', convidados[0], \"\\nO convite ainda está de pé, e estou contando com sua presença.\\nAtenciosamente,\\nSérgio Menezes\")\n",
    "print('\\nPrezado(a),', convidados[1], \"\\nO convite ainda está de pé, e estou contando com sua presença.\\nAtenciosamente,\\nSérgio Menezes\")\n",
    "del convidados[0]\n",
    "del convidados[1]\n",
    "print (convidados)"
   ]
  },
  {
   "cell_type": "code",
   "execution_count": 10,
   "metadata": {},
   "outputs": [
    {
     "name": "stdout",
     "output_type": "stream",
     "text": [
      "['irlanda', 'machu picchu', 'londres', 'noruega', 'foz do iguaçu']\n",
      "['foz do iguaçu', 'irlanda', 'londres', 'machu picchu', 'noruega']\n",
      "['noruega', 'machu picchu', 'londres', 'irlanda', 'foz do iguaçu']\n",
      "['irlanda', 'machu picchu', 'londres', 'noruega', 'foz do iguaçu']\n",
      "['foz do iguaçu', 'noruega', 'londres', 'machu picchu', 'irlanda']\n",
      "['irlanda', 'machu picchu', 'londres', 'noruega', 'foz do iguaçu']\n",
      "['foz do iguaçu', 'irlanda', 'londres', 'machu picchu', 'noruega']\n",
      "['noruega', 'machu picchu', 'londres', 'irlanda', 'foz do iguaçu']\n"
     ]
    }
   ],
   "source": [
    "#3_8 Conhecendo o Mundo\n",
    "\n",
    "lugares = ['irlanda', 'machu picchu', 'londres', 'noruega', 'foz do iguaçu']\n",
    "print(lugares)\n",
    "print(sorted(lugares)) #mostra itens na ordem alfabetica de forma temporaria\n",
    "print(sorted(lugares, reverse=True))#sorted invertido\n",
    "print(lugares)\n",
    "lugares.reverse()\n",
    "print(lugares)\n",
    "lugares.reverse()\n",
    "print(lugares)\n",
    "lugares.sort() #retorna os itens na ordem alfabetica de forma permanente\n",
    "print(lugares)\n",
    "lugares.sort(reverse=True) #retorna os itens na ordem alfabetica inversa de forma permanente\n",
    "print(lugares)"
   ]
  },
  {
   "cell_type": "code",
   "execution_count": null,
   "metadata": {},
   "outputs": [],
   "source": [
    "#3_9 lista de convidados\n",
    "\n",
    "convidados = ['tupac', 'stephen hawking', 'ragnar lothbrok']\n",
    "print(convidados)\n",
    "print('\\nPrezado(a),', convidados[0], '\\nGostaria de lhe convidar para um jantar em minha casa, no dia 20 de dezembro, às 20 horas.\\nEstou no seu aguardo.\\nAtenciosamente,\\nSérgio Menezes')\n",
    "print('\\nPrezado(a),', convidados[1], '\\nGostaria de lhe convidar para um jantar em minha casa, no dia 20 de dezembro, às 20 horas.\\nEstou no seu aguardo.\\nAtenciosamente,\\nSérgio Menezes')\n",
    "print('\\nPrezado(a),', convidados[2], '\\nGostaria de lhe convidar para um jantar em minha casa, no dia 20 de dezembro, às 20 horas.\\nEstou no seu aguardo.\\nAtenciosamente,\\nSérgio Menezes')\n",
    "print('\\nO convidado', convidados[0], 'não poderá comparecer!')\n",
    "convidados[0] = 'Emma Watson'\n",
    "print(convidados)\n",
    "convidados.insert (0, 'Elon Musk')\n",
    "convidados.insert(2, 'Stephen King')\n",
    "convidados.append ('Bill Gates')\n",
    "print (convidados)\n",
    "print ('\\nQueridos, consegui uma mesa maior e irei convidar mais pessoas, espero que todos compareçam.\\nAtenciosamente,\\nSérgio Menezes')\n",
    "print('\\nPrezado(a),', convidados[0], '\\nGostaria de lhe convidar para um jantar em minha casa, no dia 20 de dezembro, às 20 horas.\\nEstou no seu aguardo.\\nAtenciosamente,\\nSérgio Menezes')\n",
    "print('\\nPrezado(a),', convidados[1], '\\nGostaria de lhe convidar para um jantar em minha casa, no dia 20 de dezembro, às 20 horas.\\nEstou no seu aguardo.\\nAtenciosamente,\\nSérgio Menezes')\n",
    "print('\\nPrezado(a),', convidados[2], '\\nGostaria de lhe convidar para um jantar em minha casa, no dia 20 de dezembro, às 20 horas.\\nEstou no seu aguardo.\\nAtenciosamente,\\nSérgio Menezes')\n",
    "print('\\nPrezado(a),', convidados[3], '\\nGostaria de lhe convidar para um jantar em minha casa, no dia 20 de dezembro, às 20 horas.\\nEstou no seu aguardo.\\nAtenciosamente,\\nSérgio Menezes')\n",
    "print('\\nPrezado(a),', convidados[4], '\\nGostaria de lhe convidar para um jantar em minha casa, no dia 20 de dezembro, às 20 horas.\\nEstou no seu aguardo.\\nAtenciosamente,\\nSérgio Menezes')\n",
    "print('\\nPrezado(a),', convidados[5], '\\nGostaria de lhe convidar para um jantar em minha casa, no dia 20 de dezembro, às 20 horas.\\nEstou no seu aguardo.\\nAtenciosamente,\\nSérgio Menezes')\n",
    "popped_convidados = convidados.pop(4)\n",
    "print('\\nPrezado(a),', popped_convidados.title(),'\\nDesculpe-me, mas não dará para você comparacer nesse jantar, pois não haverá espaço suficiente. Farei de tudo para organizar outro jantar para você comparecer.\\nAtenciosamente,\\nSérgio Menezes')\n",
    "popped_convidados = convidados.pop(2)\n",
    "print('\\nPrezado(a),', popped_convidados.title(),'\\nDesculpe-me, mas não dará para você comparacer nesse jantar, pois não haverá espaço suficiente. Farei de tudo para organizar outro jantar para você comparecer.\\nAtenciosamente,\\nSérgio Menezes')\n",
    "popped_convidados = convidados.pop(1)\n",
    "print('\\nPrezado(a),', popped_convidados.title(),'\\nDesculpe-me, mas não dará para você comparacer nesse jantar, pois não haverá espaço suficiente. Farei de tudo para organizar outro jantar para você comparecer.\\nAtenciosamente,\\nSérgio Menezes')\n",
    "popped_convidados = convidados.pop(2)\n",
    "print('\\nPrezado(a),', popped_convidados.title(),'\\nDesculpe-me, mas não dará para você comparacer nesse jantar, pois não haverá espaço suficiente. Farei de tudo para organizar outro jantar para você comparecer.\\nAtenciosamente,\\nSérgio Menezes')\n",
    "print(convidados)\n",
    "print('\\nPrezado(a),', convidados[0], \"\\nO convite ainda está de pé, e estou contando com sua presença.\\nAtenciosamente,\\nSérgio Menezes\")\n",
    "print('\\nPrezado(a),', convidados[1], \"\\nO convite ainda está de pé, e estou contando com sua presença.\\nAtenciosamente,\\nSérgio Menezes\")\n",
    "del convidados[0]\n",
    "del convidados[1]\n",
    "print (convidados)"
   ]
  },
  {
   "cell_type": "code",
   "execution_count": null,
   "metadata": {},
   "outputs": [],
   "source": [
    "#3_10 Todas as Funções (so far)\n",
    "\n",
    "random = ['germany', 'iceland', 'audi', 'masters degree','programming', 'php', 'java','kotlin']\n",
    "print(random)\n",
    "print('Ordem alfabetica:', sorted(random))\n",
    "print('Ordem alfabetica inversa:', sorted(random, reverse=True))\n",
    "print(random)\n",
    "random.sort()\n",
    "print('Ordem alfabetica permanente:', random)\n",
    "random.sort(reverse=True)\n",
    "print('Ordem alfabetica inversa permanente', random)\n",
    "random.insert(3, 'aircraft')\n",
    "print(random)\n",
    "random.sort()\n",
    "print('Nova lista em ordem alfabetica:', random)\n",
    "random.append('china')\n",
    "print(random)\n",
    "print(\"I'd like to have an\", random[0])\n",
    "popped_random = random.pop(4)\n",
    "print(random)\n",
    "print(\"I'd like to learn\", popped_random.title())\n",
    "del random [3]\n",
    "print(random)\n",
    "print(random[-1])#o [-1] sempre vai retornar o ultimo item da lista, assim como o 0 sempre vai retornar o primeiro\n",
    "print(random[0])#o [0] sempre vai retornar o primeiro item da lista"
   ]
  },
  {
   "cell_type": "code",
   "execution_count": null,
   "metadata": {},
   "outputs": [],
   "source": [
    "#3_11 Erro Proposital\n",
    "\n",
    "lista = ['carro','moto','caminhão']\n",
    "print('O tamanho da lista é:', len(lista))\n",
    "print(lista[3]) #o [3] está errado, uma vez que nao existe um item com indice 3 na lista, pois a lista começa no 0"
   ]
  },
  {
   "cell_type": "markdown",
   "metadata": {},
   "source": [
    "## Capítulo 4: Trabalhando com listas"
   ]
  },
  {
   "cell_type": "code",
   "execution_count": null,
   "metadata": {},
   "outputs": [],
   "source": [
    "#4 Função Range\n",
    "\n",
    "for value in range(1,6): #Pode fazer a utilização de um loop for\n",
    "   print(value)#A função range() faz Python começar a contar no primeiro valor que você lhe fornecer e parar quando atingir o segundo valor especificado\n",
    "\n",
    "numbers = list(range(1,6))#A função list, transforma o range em uma lista\n",
    "print (numbers)"
   ]
  },
  {
   "cell_type": "code",
   "execution_count": null,
   "metadata": {},
   "outputs": [],
   "source": [
    "#4 Squares Range\n",
    "\n",
    "squares = []\n",
    "for value in range(1,11):\n",
    "#    square = value**2\n",
    "#    squares.append(square)\n",
    "     squares.append(value**2)#essa linha substitui as duas anteriores\n",
    "print(squares)"
   ]
  },
  {
   "cell_type": "code",
   "execution_count": 11,
   "metadata": {},
   "outputs": [
    {
     "name": "stdout",
     "output_type": "stream",
     "text": [
      "[1, 4, 9, 16, 25, 36, 49, 64, 81, 100]\n"
     ]
    }
   ],
   "source": [
    "#4 List Comprehension Squares\n",
    "squares = [value**2 for value in range(1,11)]#a list comprehension combina o laço for e a criação de novos elementos em uma linha, e concatena cada novo elemento automaticamente\n",
    "print(squares)"
   ]
  },
  {
   "cell_type": "code",
   "execution_count": null,
   "metadata": {},
   "outputs": [],
   "source": [
    "#4 Min_Max_Sum\n",
    "\n",
    "digits = [1, 2, 3, 4, 5, 6, 7, 8, 9, 0]\n",
    "print (min(digits))#retorna o valor minimo\n",
    "print (max(digits))#retorna o valor maximo\n",
    "print (sum(digits))#retorna a soma de todos os digitos"
   ]
  },
  {
   "cell_type": "code",
   "execution_count": null,
   "metadata": {},
   "outputs": [],
   "source": [
    "#4 Magicians\n",
    "\n",
    "magicians = ['alice', 'david', 'carolina']\n",
    "for magician in magicians:\n",
    "    #print(magician)\n",
    "    print(magician.title()+', that was a great trick!')\n",
    "    print(\"I can't wait to see your next trick,\", magician.title()+\".\\n\")\n",
    "print(\"Thank you, everyone. That was a great magic show!!\") "
   ]
  },
  {
   "cell_type": "code",
   "execution_count": 15,
   "metadata": {},
   "outputs": [
    {
     "name": "stdout",
     "output_type": "stream",
     "text": [
      "[2, 5, 8]\n"
     ]
    }
   ],
   "source": [
    "#4 Even Number Range\n",
    "\n",
    "even_numbers = list (range(2,11,3))#a função range() começa com o valor 2 e então soma 3 a esse valor ate chegar ou ultrapassar o valor de 11.\n",
    "print(even_numbers)"
   ]
  },
  {
   "cell_type": "code",
   "execution_count": null,
   "metadata": {},
   "outputs": [],
   "source": [
    "#4_1 Pìzzas\n",
    "\n",
    "pizzas = ['calabresa', 'chocolate', 'frango com catupery']\n",
    "for pizza in pizzas: #No loop for, se não avisar quando parar, ele vai printar \"Eu ano pizza de\" até acabar toda a lista.\n",
    "    print('Eu amo pizza de', pizza) \n",
    "print('\\nEu realmente amo pizza!!!!!')"
   ]
  },
  {
   "cell_type": "code",
   "execution_count": null,
   "metadata": {},
   "outputs": [],
   "source": [
    "#4_2 Animais\n",
    "\n",
    "animais = ['cacatua','dragao branco de olhos azuis', 'pug']\n",
    "for animal in animais:\n",
    "    print('Eu gostaria de ter um(a)', animal)\n",
    "print('Qualquer um desses animais seria um bom animal de estimação!')"
   ]
  },
  {
   "cell_type": "code",
   "execution_count": 31,
   "metadata": {},
   "outputs": [
    {
     "name": "stdout",
     "output_type": "stream",
     "text": [
      "1\n",
      "2\n",
      "3\n",
      "4\n",
      "5\n",
      "6\n",
      "7\n",
      "8\n",
      "9\n",
      "10\n",
      "11\n",
      "12\n",
      "13\n",
      "14\n",
      "15\n",
      "16\n",
      "17\n",
      "18\n",
      "19\n",
      "20\n",
      "[1, 2, 3, 4, 5, 6, 7, 8, 9, 10, 11, 12, 13, 14, 15, 16, 17, 18, 19, 20]\n"
     ]
    }
   ],
   "source": [
    "#4_3 Contando até Vinte\n",
    "\n",
    "numeros = []\n",
    "for numero in range(1,21):\n",
    "    print(numero)\n",
    "    numeros.append(numero) #vai adicinar o numero a cada loop do for ate chegar no numero 21, adicionando os valores na lista.\n",
    "print(numeros)"
   ]
  },
  {
   "cell_type": "code",
   "execution_count": null,
   "metadata": {},
   "outputs": [],
   "source": [
    "#4_4 Um Milhão\n",
    "\n",
    "milhao = list(range(1,1000000))\n",
    "for milhim in milhao:\n",
    "    print(milhim)"
   ]
  },
  {
   "cell_type": "code",
   "execution_count": null,
   "metadata": {},
   "outputs": [],
   "source": [
    "#4_5 Somando Um Milhão\n",
    "\n",
    "milhao = list(range(1,1000001))\n",
    "print(min(milhao))\n",
    "print(max(milhao))\n",
    "print(sum(milhao))"
   ]
  },
  {
   "cell_type": "code",
   "execution_count": null,
   "metadata": {},
   "outputs": [],
   "source": [
    "#4_6 Números Ímpares\n",
    "\n",
    "#impares = []\n",
    "#for impar in range(1,21,2):\n",
    "#    print(impar)\n",
    "impares = list(range(1,21,2))\n",
    "print(impares)"
   ]
  },
  {
   "cell_type": "code",
   "execution_count": null,
   "metadata": {},
   "outputs": [],
   "source": [
    "#4_7 Três\n",
    "\n",
    "#tres = list (range(3,31,3))\n",
    "#print(tres)\n",
    "tres = []\n",
    "for multiplo in  range(3,31,3):\n",
    "    print(multiplo)"
   ]
  },
  {
   "cell_type": "code",
   "execution_count": null,
   "metadata": {},
   "outputs": [],
   "source": [
    "#4_8 Cubos\n",
    "\n",
    "cubos = []\n",
    "for cubo in range(1,11):\n",
    "    value = cubo**3\n",
    "    cubos.append(value)\n",
    "print(cubos)"
   ]
  },
  {
   "cell_type": "code",
   "execution_count": null,
   "metadata": {},
   "outputs": [],
   "source": [
    "#4_9 List Comprehensions Cubo\n",
    "\n",
    "cubos = [cubo**3 for cubo in range(1,11)]\n",
    "print(cubos)"
   ]
  }
 ],
 "metadata": {
  "kernelspec": {
   "display_name": "Python 3",
   "language": "python",
   "name": "python3"
  },
  "language_info": {
   "codemirror_mode": {
    "name": "ipython",
    "version": 3
   },
   "file_extension": ".py",
   "mimetype": "text/x-python",
   "name": "python",
   "nbconvert_exporter": "python",
   "pygments_lexer": "ipython3",
   "version": "3.6.6rc1"
  }
 },
 "nbformat": 4,
 "nbformat_minor": 2
}
